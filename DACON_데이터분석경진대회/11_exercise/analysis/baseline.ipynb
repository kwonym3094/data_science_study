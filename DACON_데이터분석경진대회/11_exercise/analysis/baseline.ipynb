{
 "metadata": {
  "language_info": {
   "codemirror_mode": {
    "name": "ipython",
    "version": 3
   },
   "file_extension": ".py",
   "mimetype": "text/x-python",
   "name": "python",
   "nbconvert_exporter": "python",
   "pygments_lexer": "ipython3",
   "version": "3.7.7-final"
  },
  "orig_nbformat": 2,
  "kernelspec": {
   "name": "python3",
   "display_name": "Python 3.7.7 64-bit ('adp': conda)",
   "metadata": {
    "interpreter": {
     "hash": "a64656aaff225b631a66cd61f38f3e1544e33c39fc8f3fe79326c579b1725d48"
    }
   }
  }
 },
 "nbformat": 4,
 "nbformat_minor": 2,
 "cells": [
  {
   "source": [
    "##"
   ],
   "cell_type": "markdown",
   "metadata": {}
  },
  {
   "source": [
    "## DACON 운동 동작 분류 AI 경진대회\n",
    "- 3축 가속도계(accelerometer)와 3축 자이로스코프(gyroscope)를 활용해 측정된 센서 데이터에 머신러닝 알고리즘을 적용해 운동 동작 인식 알고리즘 개발\n",
    "- 대회 [참조](https://dacon.io/competitions/official/235689/overview/) "
   ],
   "cell_type": "markdown",
   "metadata": {}
  },
  {
   "cell_type": "code",
   "execution_count": 1,
   "metadata": {},
   "outputs": [],
   "source": [
    "import os\n",
    "import numpy as np\n",
    "import pandas as pd\n",
    "import matplotlib.pyplot as plt\n",
    "%matplotlib inline\n"
   ]
  },
  {
   "cell_type": "code",
   "execution_count": 2,
   "metadata": {},
   "outputs": [],
   "source": [
    "# 데이터가 있는 폴더\n",
    "data_dir = 'D://DACON/11_exercise/data'\n",
    "\n",
    "\n",
    "# 데이터 불러오기\n",
    "train = pd.read_csv('{data_dir}/train_features.csv'.format(data_dir=data_dir))\n",
    "train_labels = pd.read_csv('{data_dir}/train_labels.csv'.format(data_dir=data_dir))\n",
    "test = pd.read_csv('{data_dir}/test_features.csv'.format(data_dir=data_dir))\n",
    "submission = pd.read_csv('{data_dir}/sample_submission.csv'.format(data_dir=data_dir))\n"
   ]
  },
  {
   "cell_type": "code",
   "execution_count": 3,
   "metadata": {},
   "outputs": [
    {
     "output_type": "stream",
     "name": "stdout",
     "text": [
      "train 데이터셋의 크기: (1875000, 8)\ntrain labels의 크기: (3125, 3)\ntest 데이터셋의 크기: (469200, 8)\ntest estimation의 크기: (782, 62)\n"
     ]
    }
   ],
   "source": [
    "print('train 데이터셋의 크기: {0}'.format(train.shape))\n",
    "print('train labels의 크기: {0}'.format(train_labels.shape))\n",
    "print('test 데이터셋의 크기: {0}'.format(test.shape))\n",
    "print('test estimation의 크기: {0}'.format(submission.shape))"
   ]
  },
  {
   "source": [
    "- train에 187.5만개의 레코드가 존재하나, labels은 3125개 밖에 존재하지 않음\n",
    "train에 187.5만개의 레코드가 존재하나, labels은 3125개 밖에 존재하지 않음\n",
    "- 확인이 필요"
   ],
   "cell_type": "markdown",
   "metadata": {}
  },
  {
   "cell_type": "code",
   "execution_count": 4,
   "metadata": {},
   "outputs": [
    {
     "output_type": "stream",
     "name": "stdout",
     "text": [
      "<class 'pandas.core.frame.DataFrame'>\nRangeIndex: 1875000 entries, 0 to 1874999\nData columns (total 8 columns):\n #   Column  Dtype  \n---  ------  -----  \n 0   id      int64  \n 1   time    int64  \n 2   acc_x   float64\n 3   acc_y   float64\n 4   acc_z   float64\n 5   gy_x    float64\n 6   gy_y    float64\n 7   gy_z    float64\ndtypes: float64(6), int64(2)\nmemory usage: 114.4 MB\n"
     ]
    }
   ],
   "source": [
    "train.info()"
   ]
  },
  {
   "cell_type": "code",
   "execution_count": 5,
   "metadata": {},
   "outputs": [
    {
     "output_type": "stream",
     "name": "stdout",
     "text": [
      "<class 'pandas.core.frame.DataFrame'>\nRangeIndex: 3125 entries, 0 to 3124\nData columns (total 3 columns):\n #   Column      Non-Null Count  Dtype \n---  ------      --------------  ----- \n 0   id          3125 non-null   int64 \n 1   label       3125 non-null   int64 \n 2   label_desc  3125 non-null   object\ndtypes: int64(2), object(1)\nmemory usage: 73.4+ KB\n"
     ]
    }
   ],
   "source": [
    "train_labels.info()"
   ]
  },
  {
   "cell_type": "code",
   "execution_count": 6,
   "metadata": {},
   "outputs": [
    {
     "output_type": "execute_result",
     "data": {
      "text/plain": [
       "   id  time     acc_x     acc_y     acc_z      gy_x       gy_y       gy_z\n",
       "0   0     0  1.206087 -0.179371 -0.148447 -0.591608 -30.549010 -31.676112\n",
       "1   0     1  1.287696 -0.198974 -0.182444  0.303100 -39.139103 -24.927216\n",
       "2   0     2  1.304609 -0.195114 -0.253382 -3.617278 -44.122565 -25.019629\n",
       "3   0     3  1.293095 -0.230366 -0.215210  2.712986 -53.597843 -27.454013\n",
       "4   0     4  1.300887 -0.187757 -0.222523  4.286707 -57.906561 -27.961234"
      ],
      "text/html": "<div>\n<style scoped>\n    .dataframe tbody tr th:only-of-type {\n        vertical-align: middle;\n    }\n\n    .dataframe tbody tr th {\n        vertical-align: top;\n    }\n\n    .dataframe thead th {\n        text-align: right;\n    }\n</style>\n<table border=\"1\" class=\"dataframe\">\n  <thead>\n    <tr style=\"text-align: right;\">\n      <th></th>\n      <th>id</th>\n      <th>time</th>\n      <th>acc_x</th>\n      <th>acc_y</th>\n      <th>acc_z</th>\n      <th>gy_x</th>\n      <th>gy_y</th>\n      <th>gy_z</th>\n    </tr>\n  </thead>\n  <tbody>\n    <tr>\n      <th>0</th>\n      <td>0</td>\n      <td>0</td>\n      <td>1.206087</td>\n      <td>-0.179371</td>\n      <td>-0.148447</td>\n      <td>-0.591608</td>\n      <td>-30.549010</td>\n      <td>-31.676112</td>\n    </tr>\n    <tr>\n      <th>1</th>\n      <td>0</td>\n      <td>1</td>\n      <td>1.287696</td>\n      <td>-0.198974</td>\n      <td>-0.182444</td>\n      <td>0.303100</td>\n      <td>-39.139103</td>\n      <td>-24.927216</td>\n    </tr>\n    <tr>\n      <th>2</th>\n      <td>0</td>\n      <td>2</td>\n      <td>1.304609</td>\n      <td>-0.195114</td>\n      <td>-0.253382</td>\n      <td>-3.617278</td>\n      <td>-44.122565</td>\n      <td>-25.019629</td>\n    </tr>\n    <tr>\n      <th>3</th>\n      <td>0</td>\n      <td>3</td>\n      <td>1.293095</td>\n      <td>-0.230366</td>\n      <td>-0.215210</td>\n      <td>2.712986</td>\n      <td>-53.597843</td>\n      <td>-27.454013</td>\n    </tr>\n    <tr>\n      <th>4</th>\n      <td>0</td>\n      <td>4</td>\n      <td>1.300887</td>\n      <td>-0.187757</td>\n      <td>-0.222523</td>\n      <td>4.286707</td>\n      <td>-57.906561</td>\n      <td>-27.961234</td>\n    </tr>\n  </tbody>\n</table>\n</div>"
     },
     "metadata": {},
     "execution_count": 6
    }
   ],
   "source": [
    "train[:5]"
   ]
  },
  {
   "cell_type": "code",
   "execution_count": 7,
   "metadata": {},
   "outputs": [
    {
     "output_type": "execute_result",
     "data": {
      "text/plain": [
       "   id  label                 label_desc\n",
       "0   0     37  Shoulder Press (dumbbell)\n",
       "1   1     26               Non-Exercise\n",
       "2   2      3         Biceps Curl (band)\n",
       "3   3     26               Non-Exercise\n",
       "4   4     26               Non-Exercise"
      ],
      "text/html": "<div>\n<style scoped>\n    .dataframe tbody tr th:only-of-type {\n        vertical-align: middle;\n    }\n\n    .dataframe tbody tr th {\n        vertical-align: top;\n    }\n\n    .dataframe thead th {\n        text-align: right;\n    }\n</style>\n<table border=\"1\" class=\"dataframe\">\n  <thead>\n    <tr style=\"text-align: right;\">\n      <th></th>\n      <th>id</th>\n      <th>label</th>\n      <th>label_desc</th>\n    </tr>\n  </thead>\n  <tbody>\n    <tr>\n      <th>0</th>\n      <td>0</td>\n      <td>37</td>\n      <td>Shoulder Press (dumbbell)</td>\n    </tr>\n    <tr>\n      <th>1</th>\n      <td>1</td>\n      <td>26</td>\n      <td>Non-Exercise</td>\n    </tr>\n    <tr>\n      <th>2</th>\n      <td>2</td>\n      <td>3</td>\n      <td>Biceps Curl (band)</td>\n    </tr>\n    <tr>\n      <th>3</th>\n      <td>3</td>\n      <td>26</td>\n      <td>Non-Exercise</td>\n    </tr>\n    <tr>\n      <th>4</th>\n      <td>4</td>\n      <td>26</td>\n      <td>Non-Exercise</td>\n    </tr>\n  </tbody>\n</table>\n</div>"
     },
     "metadata": {},
     "execution_count": 7
    }
   ],
   "source": [
    "train_labels[:5]"
   ]
  },
  {
   "source": [
    "- train 데이터셋의 id가 여러개 중복되는 것을 확인할 수 있음"
   ],
   "cell_type": "markdown",
   "metadata": {}
  },
  {
   "cell_type": "code",
   "execution_count": 8,
   "metadata": {},
   "outputs": [
    {
     "output_type": "execute_result",
     "data": {
      "text/plain": [
       "id\n",
       "0       600\n",
       "1       600\n",
       "2       600\n",
       "3       600\n",
       "4       600\n",
       "       ... \n",
       "3120    600\n",
       "3121    600\n",
       "3122    600\n",
       "3123    600\n",
       "3124    600\n",
       "Name: time, Length: 3125, dtype: int64"
      ]
     },
     "metadata": {},
     "execution_count": 8
    }
   ],
   "source": [
    "train.groupby('id')['time'].count()"
   ]
  },
  {
   "cell_type": "code",
   "execution_count": 9,
   "metadata": {},
   "outputs": [
    {
     "output_type": "execute_result",
     "data": {
      "text/plain": [
       "Empty DataFrame\n",
       "Columns: [time, acc_x, acc_y, acc_z, gy_x, gy_y, gy_z]\n",
       "Index: []"
      ],
      "text/html": "<div>\n<style scoped>\n    .dataframe tbody tr th:only-of-type {\n        vertical-align: middle;\n    }\n\n    .dataframe tbody tr th {\n        vertical-align: top;\n    }\n\n    .dataframe thead th {\n        text-align: right;\n    }\n</style>\n<table border=\"1\" class=\"dataframe\">\n  <thead>\n    <tr style=\"text-align: right;\">\n      <th></th>\n      <th>time</th>\n      <th>acc_x</th>\n      <th>acc_y</th>\n      <th>acc_z</th>\n      <th>gy_x</th>\n      <th>gy_y</th>\n      <th>gy_z</th>\n    </tr>\n    <tr>\n      <th>id</th>\n      <th></th>\n      <th></th>\n      <th></th>\n      <th></th>\n      <th></th>\n      <th></th>\n      <th></th>\n    </tr>\n  </thead>\n  <tbody>\n  </tbody>\n</table>\n</div>"
     },
     "metadata": {},
     "execution_count": 9
    }
   ],
   "source": [
    "train.groupby('id').count()[train['id'].value_counts() != 600]"
   ]
  },
  {
   "source": [
    "- 총 id별로 600개씩, 3125개의 데이터를 가지고 있는 것을 확인할 수 있음"
   ],
   "cell_type": "markdown",
   "metadata": {}
  },
  {
   "cell_type": "code",
   "execution_count": 10,
   "metadata": {},
   "outputs": [
    {
     "output_type": "stream",
     "name": "stdout",
     "text": [
      "운동 동작 갯수: 61\n"
     ]
    }
   ],
   "source": [
    "# train labels 운동 갯수\n",
    "print('운동 동작 갯수: {0}'.format(len(train_labels['label'].unique())))\n",
    "unique_labels = np.sort(train_labels['label'].unique())"
   ]
  },
  {
   "source": [
    "### 데이터셋 설명\n",
    "- train: 600*3125개의 3축 가속도계(accelerometer)와 3축 자이로스코프(gyroscope)를 활용해 측정된 센서 데이터\n",
    "- train_labels: 3125개의 id별 동작과 동작 label(61개 동작)\n",
    "- test: 600*782개의 가속도계, 자이로스코프 센서 데이터\n",
    "- submission: 782개의 동작 예측 결과 (782*62)"
   ],
   "cell_type": "markdown",
   "metadata": {}
  },
  {
   "cell_type": "code",
   "execution_count": 11,
   "metadata": {},
   "outputs": [
    {
     "output_type": "execute_result",
     "data": {
      "text/plain": [
       "   id  time     acc_x     acc_y     acc_z       gy_x       gy_y       gy_z\n",
       "0   0     0  1.206087 -0.179371 -0.148447  -0.591608 -30.549010 -31.676112\n",
       "1   0     1  1.287696 -0.198974 -0.182444   0.303100 -39.139103 -24.927216\n",
       "2   0     2  1.304609 -0.195114 -0.253382  -3.617278 -44.122565 -25.019629\n",
       "3   0     3  1.293095 -0.230366 -0.215210   2.712986 -53.597843 -27.454013\n",
       "4   0     4  1.300887 -0.187757 -0.222523   4.286707 -57.906561 -27.961234\n",
       "5   0     5  1.289304 -0.214665 -0.249887  10.065865 -64.250636 -29.286448\n",
       "6   0     6  1.281405 -0.265540 -0.257836   3.916651 -68.661900 -27.142303\n",
       "7   0     7  1.242273 -0.292931 -0.269638   5.153811 -73.190911 -29.084766\n",
       "8   0     8  1.198871 -0.273369 -0.292713   8.494859 -74.849794 -31.135732\n",
       "9   0     9  1.113677 -0.253454 -0.230331  22.405416 -85.755582 -37.407136"
      ],
      "text/html": "<div>\n<style scoped>\n    .dataframe tbody tr th:only-of-type {\n        vertical-align: middle;\n    }\n\n    .dataframe tbody tr th {\n        vertical-align: top;\n    }\n\n    .dataframe thead th {\n        text-align: right;\n    }\n</style>\n<table border=\"1\" class=\"dataframe\">\n  <thead>\n    <tr style=\"text-align: right;\">\n      <th></th>\n      <th>id</th>\n      <th>time</th>\n      <th>acc_x</th>\n      <th>acc_y</th>\n      <th>acc_z</th>\n      <th>gy_x</th>\n      <th>gy_y</th>\n      <th>gy_z</th>\n    </tr>\n  </thead>\n  <tbody>\n    <tr>\n      <th>0</th>\n      <td>0</td>\n      <td>0</td>\n      <td>1.206087</td>\n      <td>-0.179371</td>\n      <td>-0.148447</td>\n      <td>-0.591608</td>\n      <td>-30.549010</td>\n      <td>-31.676112</td>\n    </tr>\n    <tr>\n      <th>1</th>\n      <td>0</td>\n      <td>1</td>\n      <td>1.287696</td>\n      <td>-0.198974</td>\n      <td>-0.182444</td>\n      <td>0.303100</td>\n      <td>-39.139103</td>\n      <td>-24.927216</td>\n    </tr>\n    <tr>\n      <th>2</th>\n      <td>0</td>\n      <td>2</td>\n      <td>1.304609</td>\n      <td>-0.195114</td>\n      <td>-0.253382</td>\n      <td>-3.617278</td>\n      <td>-44.122565</td>\n      <td>-25.019629</td>\n    </tr>\n    <tr>\n      <th>3</th>\n      <td>0</td>\n      <td>3</td>\n      <td>1.293095</td>\n      <td>-0.230366</td>\n      <td>-0.215210</td>\n      <td>2.712986</td>\n      <td>-53.597843</td>\n      <td>-27.454013</td>\n    </tr>\n    <tr>\n      <th>4</th>\n      <td>0</td>\n      <td>4</td>\n      <td>1.300887</td>\n      <td>-0.187757</td>\n      <td>-0.222523</td>\n      <td>4.286707</td>\n      <td>-57.906561</td>\n      <td>-27.961234</td>\n    </tr>\n    <tr>\n      <th>5</th>\n      <td>0</td>\n      <td>5</td>\n      <td>1.289304</td>\n      <td>-0.214665</td>\n      <td>-0.249887</td>\n      <td>10.065865</td>\n      <td>-64.250636</td>\n      <td>-29.286448</td>\n    </tr>\n    <tr>\n      <th>6</th>\n      <td>0</td>\n      <td>6</td>\n      <td>1.281405</td>\n      <td>-0.265540</td>\n      <td>-0.257836</td>\n      <td>3.916651</td>\n      <td>-68.661900</td>\n      <td>-27.142303</td>\n    </tr>\n    <tr>\n      <th>7</th>\n      <td>0</td>\n      <td>7</td>\n      <td>1.242273</td>\n      <td>-0.292931</td>\n      <td>-0.269638</td>\n      <td>5.153811</td>\n      <td>-73.190911</td>\n      <td>-29.084766</td>\n    </tr>\n    <tr>\n      <th>8</th>\n      <td>0</td>\n      <td>8</td>\n      <td>1.198871</td>\n      <td>-0.273369</td>\n      <td>-0.292713</td>\n      <td>8.494859</td>\n      <td>-74.849794</td>\n      <td>-31.135732</td>\n    </tr>\n    <tr>\n      <th>9</th>\n      <td>0</td>\n      <td>9</td>\n      <td>1.113677</td>\n      <td>-0.253454</td>\n      <td>-0.230331</td>\n      <td>22.405416</td>\n      <td>-85.755582</td>\n      <td>-37.407136</td>\n    </tr>\n  </tbody>\n</table>\n</div>"
     },
     "metadata": {},
     "execution_count": 11
    }
   ],
   "source": [
    "train[:10]"
   ]
  },
  {
   "cell_type": "code",
   "execution_count": 12,
   "metadata": {},
   "outputs": [
    {
     "output_type": "execute_result",
     "data": {
      "text/plain": [
       "           id  time     acc_x     acc_y     acc_z       gy_x        gy_y  \\\n",
       "0           0     0  1.206087 -0.179371 -0.148447  -0.591608  -30.549010   \n",
       "1           0     1  1.287696 -0.198974 -0.182444   0.303100  -39.139103   \n",
       "2           0     2  1.304609 -0.195114 -0.253382  -3.617278  -44.122565   \n",
       "3           0     3  1.293095 -0.230366 -0.215210   2.712986  -53.597843   \n",
       "4           0     4  1.300887 -0.187757 -0.222523   4.286707  -57.906561   \n",
       "...       ...   ...       ...       ...       ...        ...         ...   \n",
       "1874995  3124   595 -0.712530 -0.658357  0.293707 -29.367857 -104.013664   \n",
       "1874996  3124   596 -0.683037 -0.658466  0.329223 -30.149089 -101.796809   \n",
       "1874997  3124   597 -0.664730 -0.666625  0.364114 -27.873095  -98.776072   \n",
       "1874998  3124   598 -0.630534 -0.682565  0.373696 -23.636550  -99.139495   \n",
       "1874999  3124   599 -0.578351 -0.700235  0.384390 -17.917626 -100.181873   \n",
       "\n",
       "              gy_z  label                 label_desc  \n",
       "0       -31.676112     37  Shoulder Press (dumbbell)  \n",
       "1       -24.927216     37  Shoulder Press (dumbbell)  \n",
       "2       -25.019629     37  Shoulder Press (dumbbell)  \n",
       "3       -27.454013     37  Shoulder Press (dumbbell)  \n",
       "4       -27.961234     37  Shoulder Press (dumbbell)  \n",
       "...            ...    ...                        ...  \n",
       "1874995 -76.290437      2                 Bicep Curl  \n",
       "1874996 -76.625087      2                 Bicep Curl  \n",
       "1874997 -79.365125      2                 Bicep Curl  \n",
       "1874998 -80.259478      2                 Bicep Curl  \n",
       "1874999 -80.676229      2                 Bicep Curl  \n",
       "\n",
       "[1875000 rows x 10 columns]"
      ],
      "text/html": "<div>\n<style scoped>\n    .dataframe tbody tr th:only-of-type {\n        vertical-align: middle;\n    }\n\n    .dataframe tbody tr th {\n        vertical-align: top;\n    }\n\n    .dataframe thead th {\n        text-align: right;\n    }\n</style>\n<table border=\"1\" class=\"dataframe\">\n  <thead>\n    <tr style=\"text-align: right;\">\n      <th></th>\n      <th>id</th>\n      <th>time</th>\n      <th>acc_x</th>\n      <th>acc_y</th>\n      <th>acc_z</th>\n      <th>gy_x</th>\n      <th>gy_y</th>\n      <th>gy_z</th>\n      <th>label</th>\n      <th>label_desc</th>\n    </tr>\n  </thead>\n  <tbody>\n    <tr>\n      <th>0</th>\n      <td>0</td>\n      <td>0</td>\n      <td>1.206087</td>\n      <td>-0.179371</td>\n      <td>-0.148447</td>\n      <td>-0.591608</td>\n      <td>-30.549010</td>\n      <td>-31.676112</td>\n      <td>37</td>\n      <td>Shoulder Press (dumbbell)</td>\n    </tr>\n    <tr>\n      <th>1</th>\n      <td>0</td>\n      <td>1</td>\n      <td>1.287696</td>\n      <td>-0.198974</td>\n      <td>-0.182444</td>\n      <td>0.303100</td>\n      <td>-39.139103</td>\n      <td>-24.927216</td>\n      <td>37</td>\n      <td>Shoulder Press (dumbbell)</td>\n    </tr>\n    <tr>\n      <th>2</th>\n      <td>0</td>\n      <td>2</td>\n      <td>1.304609</td>\n      <td>-0.195114</td>\n      <td>-0.253382</td>\n      <td>-3.617278</td>\n      <td>-44.122565</td>\n      <td>-25.019629</td>\n      <td>37</td>\n      <td>Shoulder Press (dumbbell)</td>\n    </tr>\n    <tr>\n      <th>3</th>\n      <td>0</td>\n      <td>3</td>\n      <td>1.293095</td>\n      <td>-0.230366</td>\n      <td>-0.215210</td>\n      <td>2.712986</td>\n      <td>-53.597843</td>\n      <td>-27.454013</td>\n      <td>37</td>\n      <td>Shoulder Press (dumbbell)</td>\n    </tr>\n    <tr>\n      <th>4</th>\n      <td>0</td>\n      <td>4</td>\n      <td>1.300887</td>\n      <td>-0.187757</td>\n      <td>-0.222523</td>\n      <td>4.286707</td>\n      <td>-57.906561</td>\n      <td>-27.961234</td>\n      <td>37</td>\n      <td>Shoulder Press (dumbbell)</td>\n    </tr>\n    <tr>\n      <th>...</th>\n      <td>...</td>\n      <td>...</td>\n      <td>...</td>\n      <td>...</td>\n      <td>...</td>\n      <td>...</td>\n      <td>...</td>\n      <td>...</td>\n      <td>...</td>\n      <td>...</td>\n    </tr>\n    <tr>\n      <th>1874995</th>\n      <td>3124</td>\n      <td>595</td>\n      <td>-0.712530</td>\n      <td>-0.658357</td>\n      <td>0.293707</td>\n      <td>-29.367857</td>\n      <td>-104.013664</td>\n      <td>-76.290437</td>\n      <td>2</td>\n      <td>Bicep Curl</td>\n    </tr>\n    <tr>\n      <th>1874996</th>\n      <td>3124</td>\n      <td>596</td>\n      <td>-0.683037</td>\n      <td>-0.658466</td>\n      <td>0.329223</td>\n      <td>-30.149089</td>\n      <td>-101.796809</td>\n      <td>-76.625087</td>\n      <td>2</td>\n      <td>Bicep Curl</td>\n    </tr>\n    <tr>\n      <th>1874997</th>\n      <td>3124</td>\n      <td>597</td>\n      <td>-0.664730</td>\n      <td>-0.666625</td>\n      <td>0.364114</td>\n      <td>-27.873095</td>\n      <td>-98.776072</td>\n      <td>-79.365125</td>\n      <td>2</td>\n      <td>Bicep Curl</td>\n    </tr>\n    <tr>\n      <th>1874998</th>\n      <td>3124</td>\n      <td>598</td>\n      <td>-0.630534</td>\n      <td>-0.682565</td>\n      <td>0.373696</td>\n      <td>-23.636550</td>\n      <td>-99.139495</td>\n      <td>-80.259478</td>\n      <td>2</td>\n      <td>Bicep Curl</td>\n    </tr>\n    <tr>\n      <th>1874999</th>\n      <td>3124</td>\n      <td>599</td>\n      <td>-0.578351</td>\n      <td>-0.700235</td>\n      <td>0.384390</td>\n      <td>-17.917626</td>\n      <td>-100.181873</td>\n      <td>-80.676229</td>\n      <td>2</td>\n      <td>Bicep Curl</td>\n    </tr>\n  </tbody>\n</table>\n<p>1875000 rows × 10 columns</p>\n</div>"
     },
     "metadata": {},
     "execution_count": 12
    }
   ],
   "source": [
    "train_merged = pd.merge(train,train_labels, on='id', how='outer')\n",
    "train_merged"
   ]
  },
  {
   "cell_type": "code",
   "execution_count": 13,
   "metadata": {},
   "outputs": [
    {
     "output_type": "execute_result",
     "data": {
      "text/plain": [
       "           id  time     acc_x     acc_y     acc_z       gy_x        gy_y  \\\n",
       "0           0     0  1.206087 -0.179371 -0.148447  -0.591608  -30.549010   \n",
       "1           0     1  1.287696 -0.198974 -0.182444   0.303100  -39.139103   \n",
       "2           0     2  1.304609 -0.195114 -0.253382  -3.617278  -44.122565   \n",
       "3           0     3  1.293095 -0.230366 -0.215210   2.712986  -53.597843   \n",
       "4           0     4  1.300887 -0.187757 -0.222523   4.286707  -57.906561   \n",
       "...       ...   ...       ...       ...       ...        ...         ...   \n",
       "1874995  3124   595 -0.712530 -0.658357  0.293707 -29.367857 -104.013664   \n",
       "1874996  3124   596 -0.683037 -0.658466  0.329223 -30.149089 -101.796809   \n",
       "1874997  3124   597 -0.664730 -0.666625  0.364114 -27.873095  -98.776072   \n",
       "1874998  3124   598 -0.630534 -0.682565  0.373696 -23.636550  -99.139495   \n",
       "1874999  3124   599 -0.578351 -0.700235  0.384390 -17.917626 -100.181873   \n",
       "\n",
       "              gy_z  label                 label_desc  \n",
       "0       -31.676112     37  Shoulder Press (dumbbell)  \n",
       "1       -24.927216     37  Shoulder Press (dumbbell)  \n",
       "2       -25.019629     37  Shoulder Press (dumbbell)  \n",
       "3       -27.454013     37  Shoulder Press (dumbbell)  \n",
       "4       -27.961234     37  Shoulder Press (dumbbell)  \n",
       "...            ...    ...                        ...  \n",
       "1874995 -76.290437      2                 Bicep Curl  \n",
       "1874996 -76.625087      2                 Bicep Curl  \n",
       "1874997 -79.365125      2                 Bicep Curl  \n",
       "1874998 -80.259478      2                 Bicep Curl  \n",
       "1874999 -80.676229      2                 Bicep Curl  \n",
       "\n",
       "[1875000 rows x 10 columns]"
      ],
      "text/html": "<div>\n<style scoped>\n    .dataframe tbody tr th:only-of-type {\n        vertical-align: middle;\n    }\n\n    .dataframe tbody tr th {\n        vertical-align: top;\n    }\n\n    .dataframe thead th {\n        text-align: right;\n    }\n</style>\n<table border=\"1\" class=\"dataframe\">\n  <thead>\n    <tr style=\"text-align: right;\">\n      <th></th>\n      <th>id</th>\n      <th>time</th>\n      <th>acc_x</th>\n      <th>acc_y</th>\n      <th>acc_z</th>\n      <th>gy_x</th>\n      <th>gy_y</th>\n      <th>gy_z</th>\n      <th>label</th>\n      <th>label_desc</th>\n    </tr>\n  </thead>\n  <tbody>\n    <tr>\n      <th>0</th>\n      <td>0</td>\n      <td>0</td>\n      <td>1.206087</td>\n      <td>-0.179371</td>\n      <td>-0.148447</td>\n      <td>-0.591608</td>\n      <td>-30.549010</td>\n      <td>-31.676112</td>\n      <td>37</td>\n      <td>Shoulder Press (dumbbell)</td>\n    </tr>\n    <tr>\n      <th>1</th>\n      <td>0</td>\n      <td>1</td>\n      <td>1.287696</td>\n      <td>-0.198974</td>\n      <td>-0.182444</td>\n      <td>0.303100</td>\n      <td>-39.139103</td>\n      <td>-24.927216</td>\n      <td>37</td>\n      <td>Shoulder Press (dumbbell)</td>\n    </tr>\n    <tr>\n      <th>2</th>\n      <td>0</td>\n      <td>2</td>\n      <td>1.304609</td>\n      <td>-0.195114</td>\n      <td>-0.253382</td>\n      <td>-3.617278</td>\n      <td>-44.122565</td>\n      <td>-25.019629</td>\n      <td>37</td>\n      <td>Shoulder Press (dumbbell)</td>\n    </tr>\n    <tr>\n      <th>3</th>\n      <td>0</td>\n      <td>3</td>\n      <td>1.293095</td>\n      <td>-0.230366</td>\n      <td>-0.215210</td>\n      <td>2.712986</td>\n      <td>-53.597843</td>\n      <td>-27.454013</td>\n      <td>37</td>\n      <td>Shoulder Press (dumbbell)</td>\n    </tr>\n    <tr>\n      <th>4</th>\n      <td>0</td>\n      <td>4</td>\n      <td>1.300887</td>\n      <td>-0.187757</td>\n      <td>-0.222523</td>\n      <td>4.286707</td>\n      <td>-57.906561</td>\n      <td>-27.961234</td>\n      <td>37</td>\n      <td>Shoulder Press (dumbbell)</td>\n    </tr>\n    <tr>\n      <th>...</th>\n      <td>...</td>\n      <td>...</td>\n      <td>...</td>\n      <td>...</td>\n      <td>...</td>\n      <td>...</td>\n      <td>...</td>\n      <td>...</td>\n      <td>...</td>\n      <td>...</td>\n    </tr>\n    <tr>\n      <th>1874995</th>\n      <td>3124</td>\n      <td>595</td>\n      <td>-0.712530</td>\n      <td>-0.658357</td>\n      <td>0.293707</td>\n      <td>-29.367857</td>\n      <td>-104.013664</td>\n      <td>-76.290437</td>\n      <td>2</td>\n      <td>Bicep Curl</td>\n    </tr>\n    <tr>\n      <th>1874996</th>\n      <td>3124</td>\n      <td>596</td>\n      <td>-0.683037</td>\n      <td>-0.658466</td>\n      <td>0.329223</td>\n      <td>-30.149089</td>\n      <td>-101.796809</td>\n      <td>-76.625087</td>\n      <td>2</td>\n      <td>Bicep Curl</td>\n    </tr>\n    <tr>\n      <th>1874997</th>\n      <td>3124</td>\n      <td>597</td>\n      <td>-0.664730</td>\n      <td>-0.666625</td>\n      <td>0.364114</td>\n      <td>-27.873095</td>\n      <td>-98.776072</td>\n      <td>-79.365125</td>\n      <td>2</td>\n      <td>Bicep Curl</td>\n    </tr>\n    <tr>\n      <th>1874998</th>\n      <td>3124</td>\n      <td>598</td>\n      <td>-0.630534</td>\n      <td>-0.682565</td>\n      <td>0.373696</td>\n      <td>-23.636550</td>\n      <td>-99.139495</td>\n      <td>-80.259478</td>\n      <td>2</td>\n      <td>Bicep Curl</td>\n    </tr>\n    <tr>\n      <th>1874999</th>\n      <td>3124</td>\n      <td>599</td>\n      <td>-0.578351</td>\n      <td>-0.700235</td>\n      <td>0.384390</td>\n      <td>-17.917626</td>\n      <td>-100.181873</td>\n      <td>-80.676229</td>\n      <td>2</td>\n      <td>Bicep Curl</td>\n    </tr>\n  </tbody>\n</table>\n<p>1875000 rows × 10 columns</p>\n</div>"
     },
     "metadata": {},
     "execution_count": 13
    }
   ],
   "source": [
    "train_merged"
   ]
  },
  {
   "cell_type": "code",
   "execution_count": 14,
   "metadata": {},
   "outputs": [
    {
     "output_type": "execute_result",
     "data": {
      "text/plain": [
       "{0: 12,\n",
       " 1: 21,\n",
       " 2: 20,\n",
       " 3: 23,\n",
       " 4: 35,\n",
       " 5: 25,\n",
       " 6: 24,\n",
       " 7: 26,\n",
       " 8: 97,\n",
       " 9: 37,\n",
       " 10: 20,\n",
       " 11: 23,\n",
       " 12: 12,\n",
       " 13: 12,\n",
       " 14: 25,\n",
       " 15: 25,\n",
       " 16: 22,\n",
       " 17: 27,\n",
       " 18: 47,\n",
       " 19: 20,\n",
       " 20: 26,\n",
       " 21: 27,\n",
       " 22: 19,\n",
       " 23: 20,\n",
       " 24: 35,\n",
       " 25: 24,\n",
       " 26: 1518,\n",
       " 27: 34,\n",
       " 28: 55,\n",
       " 29: 20,\n",
       " 30: 35,\n",
       " 31: 20,\n",
       " 32: 18,\n",
       " 33: 20,\n",
       " 34: 22,\n",
       " 35: 30,\n",
       " 36: 28,\n",
       " 37: 35,\n",
       " 38: 20,\n",
       " 39: 20,\n",
       " 40: 34,\n",
       " 41: 20,\n",
       " 42: 20,\n",
       " 43: 35,\n",
       " 44: 21,\n",
       " 45: 22,\n",
       " 46: 20,\n",
       " 47: 26,\n",
       " 48: 25,\n",
       " 49: 30,\n",
       " 50: 37,\n",
       " 51: 24,\n",
       " 52: 12,\n",
       " 53: 13,\n",
       " 54: 23,\n",
       " 55: 37,\n",
       " 56: 36,\n",
       " 57: 20,\n",
       " 58: 20,\n",
       " 59: 23,\n",
       " 60: 48}"
      ]
     },
     "metadata": {},
     "execution_count": 14
    }
   ],
   "source": [
    "# 각각의 label이 골고루 분포 되어있는지 확인\n",
    "dict_lab_dist = {label : train_labels[train_labels.label == label].shape[0] for label in unique_labels}\n",
    "dict_lab_dist"
   ]
  },
  {
   "source": [
    "- 26번 운동에 대한 데이터에 지나치게 편중되어 있음\n",
    "26번 운동에 대한 데이터에 지나치게 편중되어 있음\n",
    "- 26번 운동이 무엇인지 확인"
   ],
   "cell_type": "markdown",
   "metadata": {}
  },
  {
   "cell_type": "code",
   "execution_count": 15,
   "metadata": {},
   "outputs": [
    {
     "output_type": "execute_result",
     "data": {
      "text/plain": [
       "        id  label    label_desc\n",
       "1        1     26  Non-Exercise\n",
       "3        3     26  Non-Exercise\n",
       "4        4     26  Non-Exercise\n",
       "5        5     26  Non-Exercise\n",
       "6        6     26  Non-Exercise\n",
       "...    ...    ...           ...\n",
       "3114  3114     26  Non-Exercise\n",
       "3116  3116     26  Non-Exercise\n",
       "3120  3120     26  Non-Exercise\n",
       "3121  3121     26  Non-Exercise\n",
       "3123  3123     26  Non-Exercise\n",
       "\n",
       "[1518 rows x 3 columns]"
      ],
      "text/html": "<div>\n<style scoped>\n    .dataframe tbody tr th:only-of-type {\n        vertical-align: middle;\n    }\n\n    .dataframe tbody tr th {\n        vertical-align: top;\n    }\n\n    .dataframe thead th {\n        text-align: right;\n    }\n</style>\n<table border=\"1\" class=\"dataframe\">\n  <thead>\n    <tr style=\"text-align: right;\">\n      <th></th>\n      <th>id</th>\n      <th>label</th>\n      <th>label_desc</th>\n    </tr>\n  </thead>\n  <tbody>\n    <tr>\n      <th>1</th>\n      <td>1</td>\n      <td>26</td>\n      <td>Non-Exercise</td>\n    </tr>\n    <tr>\n      <th>3</th>\n      <td>3</td>\n      <td>26</td>\n      <td>Non-Exercise</td>\n    </tr>\n    <tr>\n      <th>4</th>\n      <td>4</td>\n      <td>26</td>\n      <td>Non-Exercise</td>\n    </tr>\n    <tr>\n      <th>5</th>\n      <td>5</td>\n      <td>26</td>\n      <td>Non-Exercise</td>\n    </tr>\n    <tr>\n      <th>6</th>\n      <td>6</td>\n      <td>26</td>\n      <td>Non-Exercise</td>\n    </tr>\n    <tr>\n      <th>...</th>\n      <td>...</td>\n      <td>...</td>\n      <td>...</td>\n    </tr>\n    <tr>\n      <th>3114</th>\n      <td>3114</td>\n      <td>26</td>\n      <td>Non-Exercise</td>\n    </tr>\n    <tr>\n      <th>3116</th>\n      <td>3116</td>\n      <td>26</td>\n      <td>Non-Exercise</td>\n    </tr>\n    <tr>\n      <th>3120</th>\n      <td>3120</td>\n      <td>26</td>\n      <td>Non-Exercise</td>\n    </tr>\n    <tr>\n      <th>3121</th>\n      <td>3121</td>\n      <td>26</td>\n      <td>Non-Exercise</td>\n    </tr>\n    <tr>\n      <th>3123</th>\n      <td>3123</td>\n      <td>26</td>\n      <td>Non-Exercise</td>\n    </tr>\n  </tbody>\n</table>\n<p>1518 rows × 3 columns</p>\n</div>"
     },
     "metadata": {},
     "execution_count": 15
    }
   ],
   "source": [
    "train_labels[train_labels['label'] == 26]"
   ]
  },
  {
   "cell_type": "code",
   "execution_count": 16,
   "metadata": {},
   "outputs": [
    {
     "output_type": "stream",
     "name": "stdout",
     "text": [
      "전체 데이터 중 non-exercise의 비율: 48.5760\n"
     ]
    }
   ],
   "source": [
    "# 전체 데이터 non-exercise의 비율\n",
    "ratio_non_workout = dict_lab_dist[26]/sum(list(dict_lab_dist.values())) * 100\n",
    "print('전체 데이터 중 non-exercise의 비율: {0:.4f}'.format(ratio_non_workout))"
   ]
  },
  {
   "cell_type": "code",
   "execution_count": 17,
   "metadata": {},
   "outputs": [
    {
     "output_type": "stream",
     "name": "stdout",
     "text": [
      "전체 데이터 중 0의 비율: 0.3840\n전체 데이터 중 1의 비율: 0.6720\n전체 데이터 중 2의 비율: 0.6400\n전체 데이터 중 3의 비율: 0.7360\n전체 데이터 중 4의 비율: 1.1200\n전체 데이터 중 5의 비율: 0.8000\n전체 데이터 중 6의 비율: 0.7680\n전체 데이터 중 7의 비율: 0.8320\n전체 데이터 중 8의 비율: 3.1040\n전체 데이터 중 9의 비율: 1.1840\n전체 데이터 중 10의 비율: 0.6400\n전체 데이터 중 11의 비율: 0.7360\n전체 데이터 중 12의 비율: 0.3840\n전체 데이터 중 13의 비율: 0.3840\n전체 데이터 중 14의 비율: 0.8000\n전체 데이터 중 15의 비율: 0.8000\n전체 데이터 중 16의 비율: 0.7040\n전체 데이터 중 17의 비율: 0.8640\n전체 데이터 중 18의 비율: 1.5040\n전체 데이터 중 19의 비율: 0.6400\n전체 데이터 중 20의 비율: 0.8320\n전체 데이터 중 21의 비율: 0.8640\n전체 데이터 중 22의 비율: 0.6080\n전체 데이터 중 23의 비율: 0.6400\n전체 데이터 중 24의 비율: 1.1200\n전체 데이터 중 25의 비율: 0.7680\n전체 데이터 중 26의 비율: 48.5760\n전체 데이터 중 27의 비율: 1.0880\n전체 데이터 중 28의 비율: 1.7600\n전체 데이터 중 29의 비율: 0.6400\n전체 데이터 중 30의 비율: 1.1200\n전체 데이터 중 31의 비율: 0.6400\n전체 데이터 중 32의 비율: 0.5760\n전체 데이터 중 33의 비율: 0.6400\n전체 데이터 중 34의 비율: 0.7040\n전체 데이터 중 35의 비율: 0.9600\n전체 데이터 중 36의 비율: 0.8960\n전체 데이터 중 37의 비율: 1.1200\n전체 데이터 중 38의 비율: 0.6400\n전체 데이터 중 39의 비율: 0.6400\n전체 데이터 중 40의 비율: 1.0880\n전체 데이터 중 41의 비율: 0.6400\n전체 데이터 중 42의 비율: 0.6400\n전체 데이터 중 43의 비율: 1.1200\n전체 데이터 중 44의 비율: 0.6720\n전체 데이터 중 45의 비율: 0.7040\n전체 데이터 중 46의 비율: 0.6400\n전체 데이터 중 47의 비율: 0.8320\n전체 데이터 중 48의 비율: 0.8000\n전체 데이터 중 49의 비율: 0.9600\n전체 데이터 중 50의 비율: 1.1840\n전체 데이터 중 51의 비율: 0.7680\n전체 데이터 중 52의 비율: 0.3840\n전체 데이터 중 53의 비율: 0.4160\n전체 데이터 중 54의 비율: 0.7360\n전체 데이터 중 55의 비율: 1.1840\n전체 데이터 중 56의 비율: 1.1520\n전체 데이터 중 57의 비율: 0.6400\n전체 데이터 중 58의 비율: 0.6400\n전체 데이터 중 59의 비율: 0.7360\n전체 데이터 중 60의 비율: 1.5360\n"
     ]
    }
   ],
   "source": [
    "# 61개의 labels 있으니, 다른 label의 비율은 1% 되지 않을 정도로 매우 작을 것으로 예상됨\n",
    "# 다른 데이터의 비율을 찾아봄\n",
    "for num in list(dict_lab_dist.keys()):\n",
    "    ratio_non_workout = dict_lab_dist[num]/sum(list(dict_lab_dist.values())) * 100\n",
    "    print('전체 데이터 중 {1}의 비율: {0:.4f}'.format(ratio_non_workout, num))"
   ]
  },
  {
   "cell_type": "code",
   "execution_count": 18,
   "metadata": {},
   "outputs": [
    {
     "output_type": "stream",
     "name": "stdout",
     "text": [
      "non-exercise를 제외한 labels 평균 rows : 26.7833\n"
     ]
    }
   ],
   "source": [
    "# 평균적으로 다른 label은 몇 개의 데이터가 있는가?\n",
    "list_avg_labels = list(dict_lab_dist.values())\n",
    "list_avg_labels.pop(26)\n",
    "int_lab_mean = np.mean(list_avg_labels)\n",
    "print('non-exercise를 제외한 labels 평균 rows : %.4f'%int_lab_mean)"
   ]
  },
  {
   "source": [
    "- 약 50% 정도의 데이터가 non-exercise (다른 데이터 들은 0.3 ~ 2% 분포를 보임)\n",
    "- 아무 운동도 하지 않는 경우의 데이터가 큰 비중을 차지함(=imbalanced data)\n",
    "- 정확도(accuracy)는 높지만 재현율(recall rate)가 낮게 예측될 가능성이 높아짐\n",
    "- sampling 방법을 적용하여 재현율을 높이는 방법을 고려해야함\n",
    "약 50% 정도의 데이터가 non-exercise (다른 데이터 들은 0.3 ~ 2% 분포를 보임)\n",
    "- 아무 운동도 하지 않는 경우의 데이터가 큰 비중을 차지함(=imbalanced data)\n",
    "- 정확도(accuracy)는 높지만 재현율(recall rate)가 낮게 예측될 가능성이 높아짐\n",
    "- sampling 방법을 적용하여 재현율을 높이는 방법을 고려해야함\n",
    "- 이 baseline에서는 기본적 undersampling 기법으로 추출 후 학습 진행"
   ],
   "cell_type": "markdown",
   "metadata": {}
  },
  {
   "source": [
    "### undersampling을 위한 라이브러리 설치\n",
    "- conda\n",
    "    * conda install -c conda-forge imbalanced-learn \n",
    "- pip\n",
    "    * pip install -U imbalanced-learn\n",
    "\n",
    "- 현재는 random으로 뽑아냄"
   ],
   "cell_type": "markdown",
   "metadata": {}
  },
  {
   "cell_type": "code",
   "execution_count": 19,
   "metadata": {},
   "outputs": [],
   "source": [
    "import random \n",
    "\n",
    "# label == 26인 id array\n",
    "list_label26 = train_labels[train_labels.label == 26].id.values.tolist()\n",
    "# 26개(=다른 label의 데이터수의 평균) 랜덤 추출\n",
    "list_random_sample_26 = random.sample(list_label26,26)"
   ]
  },
  {
   "cell_type": "code",
   "execution_count": 20,
   "metadata": {},
   "outputs": [],
   "source": [
    "train_not_26 = train_merged[train_merged.label != 26]"
   ]
  },
  {
   "cell_type": "code",
   "execution_count": 21,
   "metadata": {},
   "outputs": [],
   "source": [
    "train_26 = train_merged[train_merged.id.isin(list_random_sample_26)]"
   ]
  },
  {
   "cell_type": "code",
   "execution_count": 22,
   "metadata": {},
   "outputs": [
    {
     "output_type": "execute_result",
     "data": {
      "text/plain": [
       "(15600, 10)"
      ]
     },
     "metadata": {},
     "execution_count": 22
    }
   ],
   "source": [
    "train_26.shape"
   ]
  },
  {
   "cell_type": "code",
   "execution_count": 23,
   "metadata": {},
   "outputs": [
    {
     "output_type": "execute_result",
     "data": {
      "text/plain": [
       "(964200, 10)"
      ]
     },
     "metadata": {},
     "execution_count": 23
    }
   ],
   "source": [
    "train_not_26.shape"
   ]
  },
  {
   "cell_type": "code",
   "execution_count": 24,
   "metadata": {},
   "outputs": [],
   "source": [
    "X_train = pd.concat([train_not_26,train_26])"
   ]
  },
  {
   "cell_type": "code",
   "execution_count": 25,
   "metadata": {},
   "outputs": [
    {
     "output_type": "execute_result",
     "data": {
      "text/plain": [
       "(979800, 10)"
      ]
     },
     "metadata": {},
     "execution_count": 25
    }
   ],
   "source": [
    "X_train.shape"
   ]
  },
  {
   "cell_type": "code",
   "execution_count": 26,
   "metadata": {},
   "outputs": [
    {
     "output_type": "stream",
     "name": "stderr",
     "text": [
      "Using TensorFlow backend.\n"
     ]
    },
    {
     "output_type": "execute_result",
     "data": {
      "text/plain": [
       "TensorShape([1633, 600, 6])"
      ]
     },
     "metadata": {},
     "execution_count": 26
    }
   ],
   "source": [
    "# 학습을 위한 라이브러리 불러오기\n",
    "import tensorflow as tf\n",
    "from keras.models import Sequential\n",
    "from keras.layers import Dense, LSTM\n",
    "\n",
    "X = tf.reshape(np.array(X_train.iloc[:,2:-2]), [-1,600,6])\n",
    "X.shape"
   ]
  },
  {
   "cell_type": "code",
   "execution_count": 27,
   "metadata": {},
   "outputs": [
    {
     "output_type": "execute_result",
     "data": {
      "text/plain": [
       "(1633, 61)"
      ]
     },
     "metadata": {},
     "execution_count": 27
    }
   ],
   "source": [
    "# 학습 가능하도록 id,label unique하게 뽑음\n",
    "y = X_train[['id','label']].iloc[::600,:]\n",
    "y = tf.keras.utils.to_categorical(y['label']) \n",
    "y.shape"
   ]
  },
  {
   "source": [
    "### 모델 학습 및 예측"
   ],
   "cell_type": "markdown",
   "metadata": {}
  },
  {
   "cell_type": "code",
   "execution_count": 28,
   "metadata": {},
   "outputs": [],
   "source": [
    "#가벼운 모델 생성\n",
    "model = Sequential()\n",
    "model.add(LSTM(32, input_shape=(600,6)))\n",
    "model.add(Dense(128, activation='relu'))\n",
    "model.add(Dense(61, activation='softmax'))\n",
    "\n",
    "model.compile(optimizer='rmsprop', loss='categorical_crossentropy', metrics=['accuracy'])"
   ]
  },
  {
   "cell_type": "code",
   "execution_count": 33,
   "metadata": {},
   "outputs": [
    {
     "output_type": "error",
     "ename": "ValueError",
     "evalue": "If steps_per_epoch is set, the `batch_size` must be None.",
     "traceback": [
      "\u001b[1;31m---------------------------------------------------------------------------\u001b[0m",
      "\u001b[1;31mValueError\u001b[0m                                Traceback (most recent call last)",
      "\u001b[1;32m<ipython-input-33-a681b01a77dd>\u001b[0m in \u001b[0;36m<module>\u001b[1;34m\u001b[0m\n\u001b[1;32m----> 1\u001b[1;33m \u001b[0mmodel\u001b[0m\u001b[1;33m.\u001b[0m\u001b[0mfit\u001b[0m\u001b[1;33m(\u001b[0m\u001b[0mX\u001b[0m\u001b[1;33m,\u001b[0m\u001b[0my\u001b[0m\u001b[1;33m,\u001b[0m \u001b[0mepochs\u001b[0m\u001b[1;33m=\u001b[0m\u001b[1;36m30\u001b[0m\u001b[1;33m,\u001b[0m \u001b[0mbatch_size\u001b[0m\u001b[1;33m=\u001b[0m\u001b[1;36m128\u001b[0m\u001b[1;33m,\u001b[0m \u001b[0msteps_per_epoch\u001b[0m\u001b[1;33m=\u001b[0m\u001b[1;36m30\u001b[0m\u001b[1;33m)\u001b[0m\u001b[1;33m\u001b[0m\u001b[1;33m\u001b[0m\u001b[0m\n\u001b[0m",
      "\u001b[1;32m~\\anaconda3\\envs\\adp\\lib\\site-packages\\keras\\engine\\training.py\u001b[0m in \u001b[0;36mfit\u001b[1;34m(self, x, y, batch_size, epochs, verbose, callbacks, validation_split, validation_data, shuffle, class_weight, sample_weight, initial_epoch, steps_per_epoch, validation_steps, validation_freq, max_queue_size, workers, use_multiprocessing, **kwargs)\u001b[0m\n\u001b[0;32m   1237\u001b[0m                                         \u001b[0msteps_per_epoch\u001b[0m\u001b[1;33m=\u001b[0m\u001b[0msteps_per_epoch\u001b[0m\u001b[1;33m,\u001b[0m\u001b[1;33m\u001b[0m\u001b[1;33m\u001b[0m\u001b[0m\n\u001b[0;32m   1238\u001b[0m                                         \u001b[0mvalidation_steps\u001b[0m\u001b[1;33m=\u001b[0m\u001b[0mvalidation_steps\u001b[0m\u001b[1;33m,\u001b[0m\u001b[1;33m\u001b[0m\u001b[1;33m\u001b[0m\u001b[0m\n\u001b[1;32m-> 1239\u001b[1;33m                                         validation_freq=validation_freq)\n\u001b[0m\u001b[0;32m   1240\u001b[0m \u001b[1;33m\u001b[0m\u001b[0m\n\u001b[0;32m   1241\u001b[0m     def evaluate(self,\n",
      "\u001b[1;32m~\\anaconda3\\envs\\adp\\lib\\site-packages\\keras\\engine\\training_arrays.py\u001b[0m in \u001b[0;36mfit_loop\u001b[1;34m(model, fit_function, fit_inputs, out_labels, batch_size, epochs, verbose, callbacks, val_function, val_inputs, shuffle, initial_epoch, steps_per_epoch, validation_steps, validation_freq)\u001b[0m\n\u001b[0;32m     93\u001b[0m                                           \u001b[0mbatch_size\u001b[0m\u001b[1;33m=\u001b[0m\u001b[0mbatch_size\u001b[0m\u001b[1;33m,\u001b[0m\u001b[1;33m\u001b[0m\u001b[1;33m\u001b[0m\u001b[0m\n\u001b[0;32m     94\u001b[0m                                           \u001b[0msteps\u001b[0m\u001b[1;33m=\u001b[0m\u001b[0msteps_per_epoch\u001b[0m\u001b[1;33m,\u001b[0m\u001b[1;33m\u001b[0m\u001b[1;33m\u001b[0m\u001b[0m\n\u001b[1;32m---> 95\u001b[1;33m                                           steps_name='steps_per_epoch')\n\u001b[0m\u001b[0;32m     96\u001b[0m     \u001b[1;32mif\u001b[0m \u001b[0mnum_train_samples\u001b[0m \u001b[1;32mis\u001b[0m \u001b[1;32mnot\u001b[0m \u001b[1;32mNone\u001b[0m\u001b[1;33m:\u001b[0m\u001b[1;33m\u001b[0m\u001b[1;33m\u001b[0m\u001b[0m\n\u001b[0;32m     97\u001b[0m         \u001b[0mindex_array\u001b[0m \u001b[1;33m=\u001b[0m \u001b[0mnp\u001b[0m\u001b[1;33m.\u001b[0m\u001b[0marange\u001b[0m\u001b[1;33m(\u001b[0m\u001b[0mnum_train_samples\u001b[0m\u001b[1;33m)\u001b[0m\u001b[1;33m\u001b[0m\u001b[1;33m\u001b[0m\u001b[0m\n",
      "\u001b[1;32m~\\anaconda3\\envs\\adp\\lib\\site-packages\\keras\\engine\\training_utils.py\u001b[0m in \u001b[0;36mcheck_num_samples\u001b[1;34m(ins, batch_size, steps, steps_name)\u001b[0m\n\u001b[0;32m    563\u001b[0m     \u001b[1;32mif\u001b[0m \u001b[0msteps\u001b[0m \u001b[1;32mis\u001b[0m \u001b[1;32mnot\u001b[0m \u001b[1;32mNone\u001b[0m \u001b[1;32mand\u001b[0m \u001b[0mbatch_size\u001b[0m \u001b[1;32mis\u001b[0m \u001b[1;32mnot\u001b[0m \u001b[1;32mNone\u001b[0m\u001b[1;33m:\u001b[0m\u001b[1;33m\u001b[0m\u001b[1;33m\u001b[0m\u001b[0m\n\u001b[0;32m    564\u001b[0m         raise ValueError(\n\u001b[1;32m--> 565\u001b[1;33m             'If ' + steps_name + ' is set, the `batch_size` must be None.')\n\u001b[0m\u001b[0;32m    566\u001b[0m \u001b[1;33m\u001b[0m\u001b[0m\n\u001b[0;32m    567\u001b[0m     \u001b[1;32mif\u001b[0m \u001b[1;32mnot\u001b[0m \u001b[0mins\u001b[0m \u001b[1;32mor\u001b[0m \u001b[0many\u001b[0m\u001b[1;33m(\u001b[0m\u001b[0mK\u001b[0m\u001b[1;33m.\u001b[0m\u001b[0mis_tensor\u001b[0m\u001b[1;33m(\u001b[0m\u001b[0mx\u001b[0m\u001b[1;33m)\u001b[0m \u001b[1;32mfor\u001b[0m \u001b[0mx\u001b[0m \u001b[1;32min\u001b[0m \u001b[0mins\u001b[0m\u001b[1;33m)\u001b[0m\u001b[1;33m:\u001b[0m\u001b[1;33m\u001b[0m\u001b[1;33m\u001b[0m\u001b[0m\n",
      "\u001b[1;31mValueError\u001b[0m: If steps_per_epoch is set, the `batch_size` must be None."
     ]
    }
   ],
   "source": [
    "model.fit(X,y, epochs=30, steps_per_epoch=128)"
   ]
  },
  {
   "cell_type": "code",
   "execution_count": null,
   "metadata": {},
   "outputs": [],
   "source": [
    "test_X=tf.reshape(np.array(test.iloc[:,2:]),[-1, 600, 6])\n",
    "test_X.shape"
   ]
  },
  {
   "cell_type": "code",
   "execution_count": null,
   "metadata": {},
   "outputs": [],
   "source": [
    "prediction=model.predict(test_X)"
   ]
  },
  {
   "cell_type": "code",
   "execution_count": null,
   "metadata": {},
   "outputs": [],
   "source": [
    "prediction.shape"
   ]
  },
  {
   "cell_type": "code",
   "execution_count": null,
   "metadata": {},
   "outputs": [],
   "source": [
    "submission"
   ]
  },
  {
   "cell_type": "code",
   "execution_count": null,
   "metadata": {},
   "outputs": [],
   "source": [
    "submission.iloc[:,1:]=prediction"
   ]
  },
  {
   "cell_type": "code",
   "execution_count": null,
   "metadata": {},
   "outputs": [],
   "source": [
    "submission"
   ]
  },
  {
   "cell_type": "code",
   "execution_count": null,
   "metadata": {},
   "outputs": [],
   "source": [
    "submission.to_csv('baseline_submission.csv', index=False)"
   ]
  }
 ]
}