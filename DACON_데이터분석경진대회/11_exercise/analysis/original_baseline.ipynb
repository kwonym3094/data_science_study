{
 "metadata": {
  "language_info": {
   "codemirror_mode": {
    "name": "ipython",
    "version": 3
   },
   "file_extension": ".py",
   "mimetype": "text/x-python",
   "name": "python",
   "nbconvert_exporter": "python",
   "pygments_lexer": "ipython3",
   "version": "3.8.7-final"
  },
  "orig_nbformat": 2,
  "kernelspec": {
   "name": "python3",
   "display_name": "Python 3",
   "language": "python"
  }
 },
 "nbformat": 4,
 "nbformat_minor": 2,
 "cells": [
  {
   "source": [
    "- baseline 제출결과 logloss: 4.11087\n",
    "- 86/92등\n",
    "- 접근방법의 오점\n",
    "    * non-exercising이 정지되어 있는 경우였을지, 움직이지만 운동하는 경우가 아니었는지 생각해보지 않았음\n",
    "baseline 제출결과 logloss: 4.11087\n",
    "- 86/92등\n",
    "- 접근방법의 오점\n",
    "    * non-exercising이 정지되어 있는 경우였을지, 움직이지만 운동하는 경우가 아니었는지 생각해보지 않았음\n",
    "    * 예제로 나와있는 베이스라인이 어느정도 오차인지 확인해보지 않아 더 나아진 결과인지 확인할 수 없음\n",
    "baseline 제출결과 logloss: 4.11087\n",
    "- 86/92등\n",
    "- 접근방법의 오점\n",
    "    * non-exercising이 정지되어 있는 경우였을지, 움직이지만 운동하는 경우가 아니었는지 생각해보지 않았음\n",
    "baseline 제출결과 logloss: 4.11087\n",
    "- 86/92등\n",
    "- 접근방법의 오점\n",
    "    * non-exercising이 정지되어 있는 경우였을지, 움직이지만 운동하는 경우가 아니었는지 생각해보지 않았음\n",
    "    * 예제로 나와있는 베이스라인이 어느정도 오차인지 확인해보지 않아 더 나아진 결과인지 확인할 수 없음\n",
    "- 해당 파일에서는 대회 베이스라인에 맞춰 결과가 얼마나 나오는지 확인하겠음"
   ],
   "cell_type": "markdown",
   "metadata": {}
  },
  {
   "cell_type": "code",
   "execution_count": 1,
   "metadata": {},
   "outputs": [],
   "source": [
    "import os\n",
    "import numpy as np\n",
    "import pandas as pd\n",
    "import matplotlib.pyplot as plt\n",
    "%matplotlib inline"
   ]
  },
  {
   "cell_type": "code",
   "execution_count": 2,
   "metadata": {},
   "outputs": [],
   "source": [
    "# 데이터가 있는 폴더\n",
    "data_dir = 'D://DACON/11_exercise/data'\n",
    "\n",
    "\n",
    "# 데이터 불러오기\n",
    "train = pd.read_csv('{data_dir}/train_features.csv'.format(data_dir=data_dir))\n",
    "train_labels = pd.read_csv('{data_dir}/train_labels.csv'.format(data_dir=data_dir))\n",
    "test = pd.read_csv('{data_dir}/test_features.csv'.format(data_dir=data_dir))\n",
    "submission = pd.read_csv('{data_dir}/sample_submission.csv'.format(data_dir=data_dir))"
   ]
  },
  {
   "cell_type": "code",
   "execution_count": 3,
   "metadata": {},
   "outputs": [],
   "source": [
    "import tensorflow as tf\n",
    "from keras.models import Sequential\n",
    "from keras.layers import Dense, LSTM"
   ]
  },
  {
   "cell_type": "code",
   "execution_count": 4,
   "metadata": {},
   "outputs": [
    {
     "output_type": "execute_result",
     "data": {
      "text/plain": [
       "TensorShape([3125, 600, 6])"
      ]
     },
     "metadata": {},
     "execution_count": 4
    }
   ],
   "source": [
    "X=tf.reshape(np.array(train.iloc[:,2:]),[-1, 600, 6])\n",
    "X.shape"
   ]
  },
  {
   "cell_type": "code",
   "execution_count": 5,
   "metadata": {},
   "outputs": [
    {
     "output_type": "execute_result",
     "data": {
      "text/plain": [
       "(3125, 61)"
      ]
     },
     "metadata": {},
     "execution_count": 5
    }
   ],
   "source": [
    "y = tf.keras.utils.to_categorical(train_labels['label']) \n",
    "y.shape"
   ]
  },
  {
   "cell_type": "code",
   "execution_count": 6,
   "metadata": {},
   "outputs": [],
   "source": [
    "#가벼운 모델 생성\n",
    "model = Sequential()\n",
    "model.add(LSTM(32, input_shape=(600,6)))\n",
    "model.add(Dense(128, activation='relu'))\n",
    "model.add(Dense(61, activation='softmax'))\n",
    "\n",
    "model.compile(optimizer='rmsprop', loss='categorical_crossentropy', metrics=['accuracy'])"
   ]
  },
  {
   "cell_type": "code",
   "execution_count": null,
   "metadata": {},
   "outputs": [],
   "source": [
    "model.fit(X,y, epochs=30, steps_per_epoch=128, validation_freq=0.2)"
   ]
  },
  {
   "cell_type": "code",
   "execution_count": null,
   "metadata": {},
   "outputs": [],
   "source": [
    "test_X=tf.reshape(np.array(test.iloc[:,2:]),[-1, 600, 6])\n",
    "test_X.shape"
   ]
  },
  {
   "cell_type": "code",
   "execution_count": null,
   "metadata": {},
   "outputs": [],
   "source": [
    "prediction = model.predict"
   ]
  },
  {
   "cell_type": "code",
   "execution_count": null,
   "metadata": {},
   "outputs": [],
   "source": [
    "prediction.shape"
   ]
  },
  {
   "cell_type": "code",
   "execution_count": null,
   "metadata": {},
   "outputs": [],
   "source": [
    "submission"
   ]
  },
  {
   "cell_type": "code",
   "execution_count": null,
   "metadata": {},
   "outputs": [],
   "source": [
    "submission.iloc[:,1:]=prediction"
   ]
  },
  {
   "cell_type": "code",
   "execution_count": null,
   "metadata": {},
   "outputs": [],
   "source": [
    "submission"
   ]
  },
  {
   "cell_type": "code",
   "execution_count": null,
   "metadata": {},
   "outputs": [],
   "source": [
    "submission.to_csv('baseline_submission.csv', index=False)"
   ]
  }
 ]
}